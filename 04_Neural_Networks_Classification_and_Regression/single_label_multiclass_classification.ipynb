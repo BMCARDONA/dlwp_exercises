{
 "cells": [
  {
   "cell_type": "code",
   "execution_count": 1,
   "id": "57d5f0b9",
   "metadata": {},
   "outputs": [],
   "source": [
    "import os\n",
    "os.environ[\"KERAS_BACKEND\"] = \"jax\"\n",
    "import keras"
   ]
  },
  {
   "cell_type": "code",
   "execution_count": 3,
   "id": "94e70259",
   "metadata": {},
   "outputs": [],
   "source": [
    "from keras import layers"
   ]
  },
  {
   "cell_type": "code",
   "execution_count": 4,
   "id": "b0a5678e",
   "metadata": {},
   "outputs": [
    {
     "name": "stdout",
     "output_type": "stream",
     "text": [
      "Downloading data from https://storage.googleapis.com/tensorflow/tf-keras-datasets/reuters.npz\n",
      "2110848/2110848 [==============================] - 0s 0us/step\n"
     ]
    }
   ],
   "source": [
    "from keras.datasets import reuters\n",
    "(train_data, train_labels), (test_data, test_labels) = reuters.load_data(\n",
    "    num_words=10000)"
   ]
  },
  {
   "cell_type": "code",
   "execution_count": 6,
   "id": "fc7489d6",
   "metadata": {},
   "outputs": [],
   "source": [
    "import numpy as np\n",
    "def multi_hot_encode(sequences, num_classes):\n",
    "    results = np.zeros((len(sequences), num_classes))\n",
    "    for i, sequence in enumerate(sequences):\n",
    "        results[i][sequence] = 1.\n",
    "    return results\n",
    "x_train = multi_hot_encode(train_data, num_classes=10000)\n",
    "x_test = multi_hot_encode(test_data, num_classes=10000)"
   ]
  },
  {
   "cell_type": "code",
   "execution_count": 7,
   "id": "798c4d0d",
   "metadata": {},
   "outputs": [],
   "source": [
    "x_train = multi_hot_encode(train_data, num_classes=10000)          #1\n",
    "x_test = multi_hot_encode(test_data, num_classes=10000)            #2"
   ]
  },
  {
   "cell_type": "code",
   "execution_count": 8,
   "id": "f947d913",
   "metadata": {},
   "outputs": [],
   "source": [
    "from keras.utils import to_categorical\n",
    "y_train = to_categorical(train_labels)\n",
    "y_test = to_categorical(test_labels)"
   ]
  },
  {
   "cell_type": "code",
   "execution_count": 10,
   "id": "e8db53cd",
   "metadata": {},
   "outputs": [],
   "source": [
    "model = keras.Sequential([\n",
    "    layers.Dense(64, activation = \"relu\"),\n",
    "    layers.Dense(64, activation = \"relu\"),\n",
    "    layers.Dense(46, activation = \"softmax\"),\n",
    "])"
   ]
  },
  {
   "cell_type": "code",
   "execution_count": 15,
   "id": "57517162",
   "metadata": {},
   "outputs": [],
   "source": [
    "top_3_accuracy = keras.metrics.TopKCategoricalAccuracy(k=3, name=\"top_3_accuracy\")"
   ]
  },
  {
   "cell_type": "code",
   "execution_count": 16,
   "id": "796aaa19",
   "metadata": {},
   "outputs": [],
   "source": [
    "model.compile(\n",
    "    optimizer=\"adam\",\n",
    "    loss=\"categorical_crossentropy\",\n",
    "    metrics=[\"accuracy\", top_3_accuracy]\n",
    ")"
   ]
  },
  {
   "cell_type": "code",
   "execution_count": 22,
   "id": "22feb0d9",
   "metadata": {},
   "outputs": [
    {
     "name": "stdout",
     "output_type": "stream",
     "text": [
      "Epoch 1/9\n",
      "16/16 [==============================] - 0s 11ms/step - loss: 0.1013 - accuracy: 0.9660 - top_3_accuracy: 0.9998 - val_loss: 1.2401 - val_accuracy: 0.7953 - val_top_3_accuracy: 0.9110\n",
      "Epoch 2/9\n",
      "16/16 [==============================] - 0s 9ms/step - loss: 0.0838 - accuracy: 0.9665 - top_3_accuracy: 0.9998 - val_loss: 1.2585 - val_accuracy: 0.7853 - val_top_3_accuracy: 0.9121\n",
      "Epoch 3/9\n",
      "16/16 [==============================] - 0s 9ms/step - loss: 0.0823 - accuracy: 0.9631 - top_3_accuracy: 0.9998 - val_loss: 1.2352 - val_accuracy: 0.7920 - val_top_3_accuracy: 0.9121\n",
      "Epoch 4/9\n",
      "16/16 [==============================] - 0s 10ms/step - loss: 0.0770 - accuracy: 0.9646 - top_3_accuracy: 0.9998 - val_loss: 1.2337 - val_accuracy: 0.7976 - val_top_3_accuracy: 0.9132\n",
      "Epoch 5/9\n",
      "16/16 [==============================] - 0s 9ms/step - loss: 0.0722 - accuracy: 0.9649 - top_3_accuracy: 0.9998 - val_loss: 1.2513 - val_accuracy: 0.7909 - val_top_3_accuracy: 0.9132\n",
      "Epoch 6/9\n",
      "16/16 [==============================] - 0s 10ms/step - loss: 0.0736 - accuracy: 0.9655 - top_3_accuracy: 0.9998 - val_loss: 1.2352 - val_accuracy: 0.7931 - val_top_3_accuracy: 0.9121\n",
      "Epoch 7/9\n",
      "16/16 [==============================] - 0s 10ms/step - loss: 0.0759 - accuracy: 0.9639 - top_3_accuracy: 0.9998 - val_loss: 1.2506 - val_accuracy: 0.7920 - val_top_3_accuracy: 0.9110\n",
      "Epoch 8/9\n",
      "16/16 [==============================] - 0s 10ms/step - loss: 0.0688 - accuracy: 0.9646 - top_3_accuracy: 0.9998 - val_loss: 1.2543 - val_accuracy: 0.7976 - val_top_3_accuracy: 0.9132\n",
      "Epoch 9/9\n",
      "16/16 [==============================] - 0s 11ms/step - loss: 0.0715 - accuracy: 0.9621 - top_3_accuracy: 0.9998 - val_loss: 1.2488 - val_accuracy: 0.7898 - val_top_3_accuracy: 0.9132\n"
     ]
    }
   ],
   "source": [
    "history = model.fit(x_train,\n",
    "                    y_train,\n",
    "                    epochs=9,\n",
    "                    batch_size=512,\n",
    "                    validation_split=0.1)"
   ]
  },
  {
   "cell_type": "code",
   "execution_count": 23,
   "id": "525e7b57",
   "metadata": {},
   "outputs": [
    {
     "name": "stdout",
     "output_type": "stream",
     "text": [
      "71/71 [==============================] - 0s 693us/step - loss: 1.2466 - accuracy: 0.7898 - top_3_accuracy: 0.9038\n"
     ]
    }
   ],
   "source": [
    "results = model.evaluate(x_test, y_test)"
   ]
  },
  {
   "cell_type": "code",
   "execution_count": null,
   "id": "1a1765cc",
   "metadata": {},
   "outputs": [],
   "source": []
  }
 ],
 "metadata": {
  "kernelspec": {
   "display_name": "Python 3 (ipykernel)",
   "language": "python",
   "name": "python3"
  },
  "language_info": {
   "codemirror_mode": {
    "name": "ipython",
    "version": 3
   },
   "file_extension": ".py",
   "mimetype": "text/x-python",
   "name": "python",
   "nbconvert_exporter": "python",
   "pygments_lexer": "ipython3",
   "version": "3.11.3"
  }
 },
 "nbformat": 4,
 "nbformat_minor": 5
}
