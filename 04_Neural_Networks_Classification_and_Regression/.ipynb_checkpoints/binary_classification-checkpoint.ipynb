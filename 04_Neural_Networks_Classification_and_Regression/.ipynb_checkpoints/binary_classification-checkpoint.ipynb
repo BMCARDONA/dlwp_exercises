{
 "cells": [
  {
   "cell_type": "code",
   "execution_count": 1,
   "id": "080fb600",
   "metadata": {},
   "outputs": [],
   "source": [
    "import os\n",
    "os.environ[\"KERAS_BACKEND\"] = \"jax\"\n",
    "import keras"
   ]
  },
  {
   "cell_type": "code",
   "execution_count": 2,
   "id": "1be6fd0e",
   "metadata": {},
   "outputs": [],
   "source": [
    "from keras import layers"
   ]
  },
  {
   "cell_type": "code",
   "execution_count": 3,
   "id": "2698578a",
   "metadata": {},
   "outputs": [],
   "source": [
    "model = keras.Sequential([\n",
    "    layers.Dense(32, activation=\"relu\"),\n",
    "    layers.Dense(32, activation=\"relu\"),\n",
    "    layers.Dense(1, activation=\"sigmoid\")\n",
    "])"
   ]
  },
  {
   "cell_type": "code",
   "execution_count": 4,
   "id": "780f4ca2",
   "metadata": {},
   "outputs": [],
   "source": [
    "from keras.datasets import imdb"
   ]
  },
  {
   "cell_type": "code",
   "execution_count": 5,
   "id": "de29d681",
   "metadata": {},
   "outputs": [],
   "source": [
    "(train_data, train_labels), (test_data, test_labels) = imdb.load_data(\n",
    "    num_words=10000)"
   ]
  },
  {
   "cell_type": "code",
   "execution_count": 6,
   "id": "f72414e4",
   "metadata": {},
   "outputs": [],
   "source": [
    "model.compile(\n",
    "    optimizer=\"adam\",\n",
    "    loss=\"mean_squared_error\",\n",
    "    metrics=[\"accuracy\"]\n",
    ")"
   ]
  },
  {
   "cell_type": "code",
   "execution_count": 7,
   "id": "1457ff2e",
   "metadata": {},
   "outputs": [],
   "source": [
    "import numpy as np\n",
    "def multi_hot_encode(sequences, num_classes):\n",
    "    results = np.zeros((len(sequences), num_classes))\n",
    "    for i, sequence in enumerate(sequences):\n",
    "        results[i][sequence] = 1.\n",
    "    return results\n",
    "x_train = multi_hot_encode(train_data, num_classes=10000)\n",
    "x_test = multi_hot_encode(test_data, num_classes=10000)"
   ]
  },
  {
   "cell_type": "code",
   "execution_count": 8,
   "id": "9c929892",
   "metadata": {},
   "outputs": [],
   "source": [
    "y_train = np.asarray(train_labels).astype(\"float32\")\n",
    "y_test = np.asarray(test_labels).astype(\"float32\")"
   ]
  },
  {
   "cell_type": "code",
   "execution_count": 9,
   "id": "2c123f72",
   "metadata": {},
   "outputs": [
    {
     "name": "stdout",
     "output_type": "stream",
     "text": [
      "Epoch 1/20\n",
      "40/40 [==============================] - 1s 12ms/step - loss: 0.1544 - accuracy: 0.8077 - val_loss: 0.0904 - val_accuracy: 0.8844\n",
      "Epoch 2/20\n",
      "40/40 [==============================] - 0s 6ms/step - loss: 0.0647 - accuracy: 0.9201 - val_loss: 0.0819 - val_accuracy: 0.8894\n",
      "Epoch 3/20\n",
      "40/40 [==============================] - 0s 6ms/step - loss: 0.0435 - accuracy: 0.9504 - val_loss: 0.0825 - val_accuracy: 0.8912\n",
      "Epoch 4/20\n",
      "40/40 [==============================] - 0s 6ms/step - loss: 0.0317 - accuracy: 0.9660 - val_loss: 0.0863 - val_accuracy: 0.8876\n",
      "Epoch 5/20\n",
      "40/40 [==============================] - 0s 6ms/step - loss: 0.0246 - accuracy: 0.9758 - val_loss: 0.0897 - val_accuracy: 0.8840\n",
      "Epoch 6/20\n",
      "40/40 [==============================] - 0s 6ms/step - loss: 0.0181 - accuracy: 0.9833 - val_loss: 0.0931 - val_accuracy: 0.8810\n",
      "Epoch 7/20\n",
      "40/40 [==============================] - 0s 6ms/step - loss: 0.0142 - accuracy: 0.9882 - val_loss: 0.0960 - val_accuracy: 0.8786\n",
      "Epoch 8/20\n",
      "40/40 [==============================] - 0s 6ms/step - loss: 0.0108 - accuracy: 0.9912 - val_loss: 0.0996 - val_accuracy: 0.8722\n",
      "Epoch 9/20\n",
      "40/40 [==============================] - 0s 6ms/step - loss: 0.0089 - accuracy: 0.9928 - val_loss: 0.1017 - val_accuracy: 0.8714\n",
      "Epoch 10/20\n",
      "40/40 [==============================] - 0s 6ms/step - loss: 0.0076 - accuracy: 0.9934 - val_loss: 0.1034 - val_accuracy: 0.8722\n",
      "Epoch 11/20\n",
      "40/40 [==============================] - 0s 6ms/step - loss: 0.0067 - accuracy: 0.9940 - val_loss: 0.1046 - val_accuracy: 0.8716\n",
      "Epoch 12/20\n",
      "40/40 [==============================] - 0s 6ms/step - loss: 0.0062 - accuracy: 0.9943 - val_loss: 0.1054 - val_accuracy: 0.8724\n",
      "Epoch 13/20\n",
      "40/40 [==============================] - 0s 6ms/step - loss: 0.0059 - accuracy: 0.9945 - val_loss: 0.1066 - val_accuracy: 0.8718\n",
      "Epoch 14/20\n",
      "40/40 [==============================] - 0s 6ms/step - loss: 0.0056 - accuracy: 0.9947 - val_loss: 0.1071 - val_accuracy: 0.8722\n",
      "Epoch 15/20\n",
      "40/40 [==============================] - 0s 6ms/step - loss: 0.0055 - accuracy: 0.9948 - val_loss: 0.1080 - val_accuracy: 0.8712\n",
      "Epoch 16/20\n",
      "40/40 [==============================] - 0s 6ms/step - loss: 0.0054 - accuracy: 0.9948 - val_loss: 0.1084 - val_accuracy: 0.8708\n",
      "Epoch 17/20\n",
      "40/40 [==============================] - 0s 6ms/step - loss: 0.0052 - accuracy: 0.9950 - val_loss: 0.1093 - val_accuracy: 0.8698\n",
      "Epoch 18/20\n",
      "40/40 [==============================] - 0s 6ms/step - loss: 0.0051 - accuracy: 0.9951 - val_loss: 0.1096 - val_accuracy: 0.8684\n",
      "Epoch 19/20\n",
      "40/40 [==============================] - 0s 6ms/step - loss: 0.0050 - accuracy: 0.9952 - val_loss: 0.1103 - val_accuracy: 0.8684\n",
      "Epoch 20/20\n",
      "40/40 [==============================] - 0s 6ms/step - loss: 0.0049 - accuracy: 0.9952 - val_loss: 0.1109 - val_accuracy: 0.8660\n"
     ]
    }
   ],
   "source": [
    "history = model.fit(x_train,\n",
    "                    y_train,\n",
    "                    epochs=20,\n",
    "                    batch_size=512,\n",
    "                    validation_split=0.2)"
   ]
  }
 ],
 "metadata": {
  "kernelspec": {
   "display_name": "Python 3 (ipykernel)",
   "language": "python",
   "name": "python3"
  },
  "language_info": {
   "codemirror_mode": {
    "name": "ipython",
    "version": 3
   },
   "file_extension": ".py",
   "mimetype": "text/x-python",
   "name": "python",
   "nbconvert_exporter": "python",
   "pygments_lexer": "ipython3",
   "version": "3.11.3"
  }
 },
 "nbformat": 4,
 "nbformat_minor": 5
}
