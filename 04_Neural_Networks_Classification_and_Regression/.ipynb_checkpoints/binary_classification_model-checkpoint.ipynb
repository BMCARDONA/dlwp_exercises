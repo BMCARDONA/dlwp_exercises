{
 "cells": [
  {
   "cell_type": "code",
   "execution_count": 1,
   "id": "f0784768",
   "metadata": {},
   "outputs": [],
   "source": [
    "import os\n",
    "os.environ[\"KERAS_BACKEND\"] = \"jax\"\n",
    "import keras"
   ]
  },
  {
   "cell_type": "code",
   "execution_count": 2,
   "id": "678de253",
   "metadata": {},
   "outputs": [],
   "source": [
    "from keras import layers"
   ]
  },
  {
   "cell_type": "code",
   "execution_count": 3,
   "id": "b8167728",
   "metadata": {},
   "outputs": [],
   "source": [
    "model = keras.Sequential([\n",
    "    layers.Dense(32, activation=\"relu\"),\n",
    "    layers.Dense(32, activation=\"relu\"),\n",
    "    layers.Dense(1, activation=\"sigmoid\")\n",
    "])"
   ]
  },
  {
   "cell_type": "code",
   "execution_count": 4,
   "id": "6a07f859",
   "metadata": {},
   "outputs": [],
   "source": [
    "from keras.datasets import imdb"
   ]
  },
  {
   "cell_type": "code",
   "execution_count": 5,
   "id": "fc51e016",
   "metadata": {},
   "outputs": [],
   "source": [
    "(train_data, train_labels), (test_data, test_labels) = imdb.load_data(\n",
    "    num_words=10000)"
   ]
  },
  {
   "cell_type": "code",
   "execution_count": 6,
   "id": "5eb285a6",
   "metadata": {},
   "outputs": [],
   "source": [
    "model.compile(\n",
    "    optimizer=\"adam\",\n",
    "    loss=\"mean_squared_error\",\n",
    "    metrics=[\"accuracy\"]\n",
    ")"
   ]
  },
  {
   "cell_type": "code",
   "execution_count": 7,
   "id": "fe367579",
   "metadata": {},
   "outputs": [],
   "source": [
    "import numpy as np\n",
    "def multi_hot_encode(sequences, num_classes):\n",
    "    results = np.zeros((len(sequences), num_classes))\n",
    "    for i, sequence in enumerate(sequences):\n",
    "        results[i][sequence] = 1.\n",
    "    return results\n",
    "x_train = multi_hot_encode(train_data, num_classes=10000)\n",
    "x_test = multi_hot_encode(test_data, num_classes=10000)"
   ]
  },
  {
   "cell_type": "code",
   "execution_count": 8,
   "id": "12fab662",
   "metadata": {},
   "outputs": [],
   "source": [
    "y_train = np.asarray(train_labels).astype(\"float32\")\n",
    "y_test = np.asarray(test_labels).astype(\"float32\")"
   ]
  },
  {
   "cell_type": "code",
   "execution_count": 9,
   "id": "2788be42",
   "metadata": {},
   "outputs": [
    {
     "name": "stdout",
     "output_type": "stream",
     "text": [
      "Epoch 1/20\n",
      "40/40 [==============================] - 1s 12ms/step - loss: 0.1481 - accuracy: 0.8133 - val_loss: 0.0915 - val_accuracy: 0.8826\n",
      "Epoch 2/20\n",
      "40/40 [==============================] - 0s 6ms/step - loss: 0.0639 - accuracy: 0.9230 - val_loss: 0.0846 - val_accuracy: 0.8858\n",
      "Epoch 3/20\n",
      "40/40 [==============================] - 0s 6ms/step - loss: 0.0463 - accuracy: 0.9467 - val_loss: 0.0847 - val_accuracy: 0.8848\n",
      "Epoch 4/20\n",
      "40/40 [==============================] - 0s 6ms/step - loss: 0.0351 - accuracy: 0.9620 - val_loss: 0.0864 - val_accuracy: 0.8870\n",
      "Epoch 5/20\n",
      "40/40 [==============================] - 0s 6ms/step - loss: 0.0264 - accuracy: 0.9743 - val_loss: 0.0889 - val_accuracy: 0.8834\n",
      "Epoch 6/20\n",
      "40/40 [==============================] - 0s 6ms/step - loss: 0.0197 - accuracy: 0.9829 - val_loss: 0.0914 - val_accuracy: 0.8790\n",
      "Epoch 7/20\n",
      "40/40 [==============================] - 0s 6ms/step - loss: 0.0151 - accuracy: 0.9880 - val_loss: 0.0951 - val_accuracy: 0.8752\n",
      "Epoch 8/20\n",
      "40/40 [==============================] - 0s 6ms/step - loss: 0.0120 - accuracy: 0.9907 - val_loss: 0.0968 - val_accuracy: 0.8766\n",
      "Epoch 9/20\n",
      "40/40 [==============================] - 0s 6ms/step - loss: 0.0095 - accuracy: 0.9927 - val_loss: 0.0990 - val_accuracy: 0.8732\n",
      "Epoch 10/20\n",
      "40/40 [==============================] - 0s 6ms/step - loss: 0.0081 - accuracy: 0.9934 - val_loss: 0.1010 - val_accuracy: 0.8722\n",
      "Epoch 11/20\n",
      "40/40 [==============================] - 0s 6ms/step - loss: 0.0070 - accuracy: 0.9941 - val_loss: 0.1027 - val_accuracy: 0.8716\n",
      "Epoch 12/20\n",
      "40/40 [==============================] - 0s 6ms/step - loss: 0.0063 - accuracy: 0.9945 - val_loss: 0.1039 - val_accuracy: 0.8728\n",
      "Epoch 13/20\n",
      "40/40 [==============================] - 0s 6ms/step - loss: 0.0058 - accuracy: 0.9948 - val_loss: 0.1048 - val_accuracy: 0.8718\n",
      "Epoch 14/20\n",
      "40/40 [==============================] - 0s 6ms/step - loss: 0.0055 - accuracy: 0.9950 - val_loss: 0.1061 - val_accuracy: 0.8692\n",
      "Epoch 15/20\n",
      "40/40 [==============================] - 0s 6ms/step - loss: 0.0053 - accuracy: 0.9951 - val_loss: 0.1065 - val_accuracy: 0.8678\n",
      "Epoch 16/20\n",
      "40/40 [==============================] - 0s 6ms/step - loss: 0.0051 - accuracy: 0.9952 - val_loss: 0.1072 - val_accuracy: 0.8676\n",
      "Epoch 17/20\n",
      "40/40 [==============================] - 0s 6ms/step - loss: 0.0050 - accuracy: 0.9952 - val_loss: 0.1078 - val_accuracy: 0.8690\n",
      "Epoch 18/20\n",
      "40/40 [==============================] - 0s 6ms/step - loss: 0.0049 - accuracy: 0.9954 - val_loss: 0.1082 - val_accuracy: 0.8668\n",
      "Epoch 19/20\n",
      "40/40 [==============================] - 0s 6ms/step - loss: 0.0047 - accuracy: 0.9955 - val_loss: 0.1086 - val_accuracy: 0.8678\n",
      "Epoch 20/20\n",
      "40/40 [==============================] - 0s 6ms/step - loss: 0.0046 - accuracy: 0.9955 - val_loss: 0.1091 - val_accuracy: 0.8670\n"
     ]
    }
   ],
   "source": [
    "history = model.fit(x_train,\n",
    "                    y_train,\n",
    "                    epochs=20,\n",
    "                    batch_size=512,\n",
    "                    validation_split=0.2)"
   ]
  },
  {
   "cell_type": "code",
   "execution_count": null,
   "id": "aeec2253",
   "metadata": {},
   "outputs": [],
   "source": []
  }
 ],
 "metadata": {
  "kernelspec": {
   "display_name": "Python 3 (ipykernel)",
   "language": "python",
   "name": "python3"
  },
  "language_info": {
   "codemirror_mode": {
    "name": "ipython",
    "version": 3
   },
   "file_extension": ".py",
   "mimetype": "text/x-python",
   "name": "python",
   "nbconvert_exporter": "python",
   "pygments_lexer": "ipython3",
   "version": "3.11.3"
  }
 },
 "nbformat": 4,
 "nbformat_minor": 5
}
